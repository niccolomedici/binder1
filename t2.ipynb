{
 "cells": [
  {
   "cell_type": "markdown",
   "id": "837fbf2d",
   "metadata": {},
   "source": [
    "This notebook visualizes the answer for a nice riddle by @talitshe:\n",
    "\n",
    "<div dir=\"rtl\">\n",
    "\n",
    "[חידה מתמטית חביבה: נניח שהתפלגות בנים/בנות בלידה היא 50/50. במדינה בה כל זוג (ללא יוצא מהכלל) מביא ילדים עד שנולד להם בן, ואז מפסיק (כלומר, לעולם אין שני בנים לזוג, אבל למשל 7 בנות ואז בן זה אפשרי), בכמה גדול מספר הבנות ממספר הבנים?](https://twitter.com/talitshe/status/1578692070343987200)\n",
    "\n",
    "</div>"
   ]
  },
  {
   "cell_type": "markdown",
   "id": "e8260696",
   "metadata": {},
   "source": [
    "The probabily of having a girl is $\\frac{1}{2}$, but you may tweak it using the slider (or edit the code directly).\n",
    "\n",
    "You must press **Ctrl+F9** afterwards to recalculate all cells (and regenerate the diagram). Ignore any warning Google gives you about unsafe code."
   ]
  },
  {
   "cell_type": "code",
   "execution_count": 1,
   "id": "22e4b25c",
   "metadata": {},
   "outputs": [],
   "source": [
    "# @title Probability of having a girl\n",
    "prob = 0.5  # @param {type:\"slider\", min:0.1, max:0.9, step:0.1}"
   ]
  },
  {
   "cell_type": "code",
   "execution_count": 2,
   "id": "f44c1cd6",
   "metadata": {},
   "outputs": [],
   "source": [
    "scale = 100"
   ]
  },
  {
   "cell_type": "markdown",
   "id": "e935c8ac",
   "metadata": {},
   "source": [
    "We calculate the girls born in each birth using the formula $prob^n$. Theoretically, there are inifitine births (as a woman can birth only girls), so practically we clamp the results at $1.0$ girl."
   ]
  },
  {
   "cell_type": "code",
   "execution_count": 3,
   "id": "fd4cc102",
   "metadata": {},
   "outputs": [
    {
     "data": {
      "text/plain": [
       "[100.0, 50.0, 25.0, 12.5, 6.25, 3.125, 1.5625]"
      ]
     },
     "execution_count": 3,
     "metadata": {},
     "output_type": "execute_result"
    }
   ],
   "source": [
    "# Alas, Google's python doesn't support expression assignment.\n",
    "girls = [ scale * prob**n for n in range(100) if scale * prob**n > 1.0 ]\n",
    "girls"
   ]
  },
  {
   "cell_type": "markdown",
   "id": "b54556f8",
   "metadata": {},
   "source": [
    "To calculate the boys in each birth, we calculate the girls of the previous birth, and take the $(1-prob)$ portion."
   ]
  },
  {
   "cell_type": "code",
   "execution_count": 4,
   "id": "359f993f",
   "metadata": {},
   "outputs": [],
   "source": [
    "boys  = [ scale * prob**(n - 1) * (1 - prob) for n in range(len(girls)) ]"
   ]
  },
  {
   "cell_type": "markdown",
   "id": "86a79efb",
   "metadata": {},
   "source": [
    "Now let's plot the data:"
   ]
  },
  {
   "cell_type": "code",
   "execution_count": 5,
   "id": "ef4d0a46",
   "metadata": {},
   "outputs": [
    {
     "data": {
      "image/png": "[encoded data removed]",
      "text/plain": [
       "<Figure size 640x480 with 1 Axes>"
      ]
     },
     "metadata": {},
     "output_type": "display_data"
    }
   ],
   "source": [
    "from matplotlib.pyplot import *\n",
    "\n",
    "labels = [ str(n + 1) + ' הדיל' for n in range(len(girls)) ]\n",
    "bar_height = 0.95\n",
    "\n",
    "barh(labels, girls, bar_height, label='תונב', color='pink')\n",
    "barh(labels, boys, bar_height, label='םינב', color='blue', left=girls)\n",
    "xlabel('תודלוי')\n",
    "xticks([])\n",
    "legend()\n",
    "show()"
   ]
  }
 ],
 "metadata": {
  "kernelspec": {
   "display_name": "Python 3 (ipykernel)",
   "language": "python",
   "name": "python3"
  },
  "language_info": {
   "codemirror_mode": {
    "name": "ipython",
    "version": 3
   },
   "file_extension": ".py",
   "mimetype": "text/x-python",
   "name": "python",
   "nbconvert_exporter": "python",
   "pygments_lexer": "ipython3",
   "version": "3.10.4"
  }
 },
 "nbformat": 4,
 "nbformat_minor": 5
}
